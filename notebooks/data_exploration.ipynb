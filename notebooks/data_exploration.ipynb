{
 "cells": [
  {
   "cell_type": "code",
   "execution_count": 10,
   "id": "a8c11390",
   "metadata": {},
   "outputs": [],
   "source": [
    "import requests\n",
    "import json"
   ]
  },
  {
   "cell_type": "code",
   "execution_count": 11,
   "id": "d548ff4f",
   "metadata": {},
   "outputs": [
    {
     "name": "stdout",
     "output_type": "stream",
     "text": [
      "berry-forest\n",
      "birth-island\n",
      "bond-bridge\n",
      "canyon-entrance\n",
      "cape-brink\n",
      "celadon-city\n",
      "cerulean-cave\n",
      "cerulean-city\n",
      "cinnabar-island\n",
      "digletts-cave\n",
      "dilford-chamber\n",
      "five-island\n",
      "five-isle-meadow\n",
      "four-island\n",
      "fuchsia-city\n",
      "green-path\n",
      "icefall-cave\n",
      "indigo-plateau\n",
      "kanto-altering-cave\n",
      "kanto-route-1\n",
      "kanto-route-10\n",
      "kanto-route-11\n",
      "kanto-route-12\n",
      "kanto-route-13\n",
      "kanto-route-14\n",
      "kanto-route-15\n",
      "kanto-route-16\n",
      "kanto-route-17\n",
      "kanto-route-18\n",
      "kanto-route-2\n",
      "kanto-route-22\n",
      "kanto-route-23\n",
      "kanto-route-24\n",
      "kanto-route-25\n",
      "kanto-route-26\n",
      "kanto-route-27\n",
      "kanto-route-28\n",
      "kanto-route-3\n",
      "kanto-route-4\n",
      "kanto-route-5\n",
      "kanto-route-6\n",
      "kanto-route-7\n",
      "kanto-route-8\n",
      "kanto-route-9\n",
      "kanto-safari-zone\n",
      "kanto-sea-route-19\n",
      "kanto-sea-route-20\n",
      "kanto-sea-route-21\n",
      "kanto-victory-road-1\n",
      "kanto-victory-road-2\n",
      "kindle-road\n",
      "lavender-town\n",
      "liptoo-chamber\n",
      "lost-cave\n",
      "memorial-pillar\n",
      "monean-chamber\n",
      "mt-ember\n",
      "mt-moon\n",
      "navel-rock\n",
      "one-island\n",
      "outcast-island\n",
      "pallet-town\n",
      "pattern-bush\n",
      "pewter-city\n",
      "pokemon-mansion\n",
      "pokemon-tower\n",
      "power-plant\n",
      "resort-gorgeous\n",
      "rixy-chamber\n",
      "roaming-kanto\n",
      "rock-tunnel\n",
      "ruin-valley\n",
      "saffron-city\n",
      "scufib-chamber\n",
      "seafoam-islands\n",
      "sevault-canyon\n",
      "seven-island\n",
      "six-island\n",
      "ss-anne\n",
      "tanoby-ruins\n",
      "three-island\n",
      "three-isle-path\n",
      "three-isle-port\n",
      "trainer-tower\n",
      "treasure-beach\n",
      "two-island\n",
      "vermilion-city\n",
      "viapos-chamber\n",
      "viridian-city\n",
      "viridian-forest\n",
      "water-labyrinth\n",
      "water-path\n",
      "weepth-chamber\n"
     ]
    }
   ],
   "source": [
    "# Define the base URL and generation ID\n",
    "BASE_URL = \"https://pokeapi.co/api/v2/\"\n",
    "GENERATION_ID = 1\n",
    "\n",
    "# Fetch generation data\n",
    "generation_data = requests.get(f\"{BASE_URL}generation/{GENERATION_ID}\").json()\n",
    "\n",
    "# Extract the main region URL\n",
    "region_url = generation_data[\"main_region\"][\"url\"]\n",
    "# Fetch region data\n",
    "region_data = requests.get(region_url).json()\n",
    "\n",
    "# Extract the list of locations\n",
    "locations = region_data[\"locations\"]\n",
    "# Extract and sort location names\n",
    "location_names = sorted([location[\"name\"] for location in locations])\n",
    "\n",
    "# Display the location names\n",
    "for name in location_names:\n",
    "    print(name)"
   ]
  },
  {
   "cell_type": "code",
   "execution_count": 12,
   "id": "f86b323c",
   "metadata": {},
   "outputs": [
    {
     "name": "stdout",
     "output_type": "stream",
     "text": [
      "Sample Pokémon:\n",
      "ID: 1\n",
      "Name: bulbasaur\n",
      "Types: ['grass', 'poison']\n",
      "Base Stats: dict_keys(['hp', 'attack', 'defense', 'special-attack', 'special-defense', 'speed'])\n",
      "Sprite URL: https://raw.githubusercontent.com/PokeAPI/sprites/master/sprites/pokemon/1.png\n",
      "Height: 7 Weight: 69\n",
      "\n",
      "Encounter sample (first 3):\n",
      "  - Version: yellow, Method: gift, Area: cerulean-city-area, Lv: 10-10, Chance: 100%, Conditions: []\n",
      "  - Version: red, Method: gift, Area: pallet-town-area, Lv: 5-5, Chance: 100%, Conditions: []\n",
      "  - Version: blue, Method: gift, Area: pallet-town-area, Lv: 5-5, Chance: 100%, Conditions: []\n"
     ]
    }
   ],
   "source": [
    "# Load the merged Pokémon data with encounter info\n",
    "with open(\"kanto_pokemon_data.json\") as f:\n",
    "    data = json.load(f)\n",
    "sample = data[0]\n",
    "\n",
    "print(\"Sample Pokémon:\")\n",
    "print(\"ID:\", sample.get(\"id\"))\n",
    "print(\"Name:\", sample.get(\"name\"))\n",
    "print(\"Types:\", sample.get(\"types\"))\n",
    "print(\"Base Stats:\", sample.get(\"base_stats\").keys())\n",
    "print(\"Sprite URL:\", sample.get(\"sprite\"))\n",
    "print(\"Height:\", sample.get(\"height\"), \"Weight:\", sample.get(\"weight\"))\n",
    "\n",
    "# Check structure of encounter data\n",
    "encounters = sample.get(\"encounters\", [])\n",
    "print(\"\\nEncounter sample (first 3):\")\n",
    "for e in encounters[:3]:\n",
    "    print(f\"  - Version: {e['version']}, Method: {e['method']}, Area: {e['area']}, Lv: {e['min_level']}-{e['max_level']}, Chance: {e['chance']}%, Conditions: {e['conditions']}\")"
   ]
  },
  {
   "cell_type": "code",
   "execution_count": 13,
   "id": "4cb220e8",
   "metadata": {},
   "outputs": [
    {
     "data": {
      "text/plain": [
       "['blue', 'red', 'yellow']"
      ]
     },
     "execution_count": 13,
     "metadata": {},
     "output_type": "execute_result"
    }
   ],
   "source": [
    "# Load the merged Pokémon data with encounter info\n",
    "with open(\"kanto_pokemon_data.json\") as f:\n",
    "    data = json.load(f)\n",
    "\n",
    "# Collect all unique versions\n",
    "versions = set()\n",
    "\n",
    "for pokemon in data:\n",
    "    for encounter in pokemon.get(\"encounters\", []):\n",
    "        versions.add(encounter[\"version\"])\n",
    "\n",
    "# Show sorted list of versions\n",
    "sorted(versions)"
   ]
  }
 ],
 "metadata": {
  "kernelspec": {
   "display_name": "pokemon",
   "language": "python",
   "name": "python3"
  },
  "language_info": {
   "codemirror_mode": {
    "name": "ipython",
    "version": 3
   },
   "file_extension": ".py",
   "mimetype": "text/x-python",
   "name": "python",
   "nbconvert_exporter": "python",
   "pygments_lexer": "ipython3",
   "version": "3.11.13"
  }
 },
 "nbformat": 4,
 "nbformat_minor": 5
}
